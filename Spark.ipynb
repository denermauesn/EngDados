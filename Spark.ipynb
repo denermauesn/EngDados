{
 "cells": [
  {
   "cell_type": "code",
   "execution_count": 1,
   "metadata": {},
   "outputs": [],
   "source": [
    "import json\n",
    "import pandas as pd\n",
    "import findspark\n",
    "import pyspark\n",
    "from pyspark.sql import functions as F\n",
    "from pyspark.sql.functions import count, avg\n",
    "\n",
    "findspark.init()\n",
    "sc = pyspark.SparkContext()"
   ]
  },
  {
   "cell_type": "code",
   "execution_count": 2,
   "metadata": {},
   "outputs": [],
   "source": [
    "sqlContext = pyspark.SQLContext(sc)\n",
    "\n",
    "data = sqlContext.read.json(\"data.json\")"
   ]
  },
  {
   "cell_type": "code",
   "execution_count": 8,
   "metadata": {},
   "outputs": [
    {
     "name": "stdout",
     "output_type": "stream",
     "text": [
      "+------------------+\n",
      "|Total de PageViews|\n",
      "+------------------+\n",
      "|           35737.0|\n",
      "+------------------+\n",
      "\n"
     ]
    }
   ],
   "source": [
    "data.groupBy().agg(F.sum(\"totals.pageViews\").alias(\"Total de PageViews\")).show()"
   ]
  },
  {
   "cell_type": "code",
   "execution_count": 9,
   "metadata": {},
   "outputs": [
    {
     "name": "stdout",
     "output_type": "stream",
     "text": [
      "+-----------------------------+\n",
      "|Número de sessões por usuário|\n",
      "+-----------------------------+\n",
      "|                         9020|\n",
      "+-----------------------------+\n",
      "\n"
     ]
    }
   ],
   "source": [
    "df = data.groupby(\"fullVisitorId\", \"visitId\").agg(count(\"*\").alias('total'))\n",
    "df.select(F.sum(df.total).alias(\"Número de sessões por usuário\")).show()\n"
   ]
  },
  {
   "cell_type": "code",
   "execution_count": 25,
   "metadata": {},
   "outputs": [
    {
     "name": "stdout",
     "output_type": "stream",
     "text": [
      "+--------+--------------------------+\n",
      "|    date|Sessões distintas por data|\n",
      "+--------+--------------------------+\n",
      "|20160825|                        19|\n",
      "|20160820|                        15|\n",
      "|20161119|                        32|\n",
      "|20170625|                        13|\n",
      "|20170605|                        27|\n",
      "|20161201|                        44|\n",
      "|20170613|                        23|\n",
      "|20170504|                        26|\n",
      "|20170725|                        22|\n",
      "|20161026|                        42|\n",
      "|20161115|                        46|\n",
      "|20170413|                        30|\n",
      "|20161108|                        34|\n",
      "|20161106|                        38|\n",
      "|20170723|                        22|\n",
      "|20170521|                        16|\n",
      "|20170122|                         9|\n",
      "|20170113|                        20|\n",
      "|20161125|                        37|\n",
      "|20161209|                        34|\n",
      "+--------+--------------------------+\n",
      "only showing top 20 rows\n",
      "\n"
     ]
    }
   ],
   "source": [
    "data.groupBy(\"date\").count().select(\"date\", F.col(\"count\").alias(\"Sessões distintas por data\")).show()"
   ]
  },
  {
   "cell_type": "code",
   "execution_count": 26,
   "metadata": {},
   "outputs": [
    {
     "name": "stdout",
     "output_type": "stream",
     "text": [
      "+--------+-----------------------------------+\n",
      "|    date|Média de duração da sessão por data|\n",
      "+--------+-----------------------------------+\n",
      "|20160825|                 250.45454545454547|\n",
      "|20160820|                              291.2|\n",
      "|20161119|                  118.6842105263158|\n",
      "|20170625|                  66.57142857142857|\n",
      "|20170605|                 367.53333333333336|\n",
      "|20161201|                 219.54166666666666|\n",
      "|20170613|                 119.92307692307692|\n",
      "|20170504|                              139.9|\n",
      "|20170725|                  531.2142857142857|\n",
      "|20161026|                  98.07692307692308|\n",
      "|20161115|                  97.27272727272727|\n",
      "|20170413|                 131.71428571428572|\n",
      "|20161108|                 189.21428571428572|\n",
      "|20161106|                 117.66666666666667|\n",
      "|20170723|                 339.72727272727275|\n",
      "|20170521|                  350.8181818181818|\n",
      "|20170122|                              193.0|\n",
      "|20170113|                 345.53333333333336|\n",
      "|20161125|                              205.8|\n",
      "|20161209|                 189.78947368421052|\n",
      "+--------+-----------------------------------+\n",
      "only showing top 20 rows\n",
      "\n"
     ]
    }
   ],
   "source": [
    "data.groupBy(\"date\").agg(avg(\"totals.timeOnSite\").alias('Média de duração da sessão por data')).show()"
   ]
  },
  {
   "cell_type": "code",
   "execution_count": 28,
   "metadata": {},
   "outputs": [
    {
     "name": "stdout",
     "output_type": "stream",
     "text": [
      "+--------+-----------------+-----------------------------------+\n",
      "|    date|          browser|Sessões diárias por tipo de browser|\n",
      "+--------+-----------------+-----------------------------------+\n",
      "|20170108|           Chrome|                                 12|\n",
      "|20160816|        YaBrowser|                                  1|\n",
      "|20170705|           Chrome|                                 16|\n",
      "|20161228|       UC Browser|                                  1|\n",
      "|20170624|           Chrome|                                 10|\n",
      "|20170422|           Chrome|                                 18|\n",
      "|20160909|           Chrome|                                 24|\n",
      "|20160825|           Chrome|                                 12|\n",
      "|20170202|           Safari|                                  4|\n",
      "|20170411|           Safari|                                  3|\n",
      "|20170403|           Chrome|                                 17|\n",
      "|20161205|           Chrome|                                 31|\n",
      "|20170320|           Safari|                                  5|\n",
      "|20170104|           Chrome|                                 14|\n",
      "|20170714|      Amazon Silk|                                  1|\n",
      "|20170123|Internet Explorer|                                  3|\n",
      "|20161216|  Safari (in-app)|                                  1|\n",
      "|20170301|           Chrome|                                 19|\n",
      "|20170418|       Opera Mini|                                  1|\n",
      "|20160921|           Safari|                                  3|\n",
      "+--------+-----------------+-----------------------------------+\n",
      "only showing top 20 rows\n",
      "\n"
     ]
    }
   ],
   "source": [
    "data.groupBy(\"date\", \"device.browser\").count()\\\n",
    "    .select(\"date\", \"browser\", F.col(\"count\").alias(\"Sessões diárias por tipo de browser\"))\\\n",
    "    .show()"
   ]
  }
 ],
 "metadata": {
  "kernelspec": {
   "display_name": "Python 3",
   "language": "python",
   "name": "python3"
  },
  "language_info": {
   "codemirror_mode": {
    "name": "ipython",
    "version": 3
   },
   "file_extension": ".py",
   "mimetype": "text/x-python",
   "name": "python",
   "nbconvert_exporter": "python",
   "pygments_lexer": "ipython3",
   "version": "3.8.0"
  }
 },
 "nbformat": 4,
 "nbformat_minor": 4
}
